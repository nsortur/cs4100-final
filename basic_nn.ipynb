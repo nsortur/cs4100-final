{
 "cells": [
  {
   "cell_type": "code",
   "execution_count": 88,
   "metadata": {
    "collapsed": true
   },
   "outputs": [],
   "source": [
    "import random\n",
    "\n",
    "import gym\n",
    "import numpy as np\n",
    "import tensorflow as tf\n",
    "from tensorflow_core import initializers\n",
    "\n",
    "env = gym.make('Copy-v0')\n",
    "actions = [(0, 0, 0),\n",
    "           (0, 0, 1),\n",
    "           (0, 0, 2),\n",
    "           (0, 0, 3),\n",
    "           (0, 0, 4),\n",
    "           (0, 1, 0),\n",
    "           (0, 1, 1),\n",
    "           (0, 1, 2),\n",
    "           (0, 1, 3),\n",
    "           (0, 1, 4),\n",
    "           (1, 0, 0),\n",
    "           (1, 0, 1),\n",
    "           (1, 0, 2),\n",
    "           (1, 0, 3),\n",
    "           (1, 0, 4),\n",
    "           (1, 1, 0),\n",
    "           (1, 1, 1),\n",
    "           (1, 1, 2),\n",
    "           (1, 1, 3),\n",
    "           (1, 1, 4)]"
   ]
  },
  {
   "cell_type": "code",
   "execution_count": 86,
   "outputs": [],
   "source": [
    "# constants\n",
    "EPSILON = 0.2\n",
    "ALPHA = 0.2\n",
    "GAMMA = 0.9"
   ],
   "metadata": {
    "collapsed": false,
    "pycharm": {
     "name": "#%%\n"
    }
   }
  },
  {
   "cell_type": "code",
   "execution_count": 81,
   "outputs": [
    {
     "name": "stdout",
     "output_type": "stream",
     "text": [
      "State: Discrete(6)\n",
      "Action: Tuple(Discrete(2), Discrete(2), Discrete(5))\n",
      "Num actions: 20\n"
     ]
    }
   ],
   "source": [
    "print('State:', env.observation_space)\n",
    "print('Action:', env.action_space)\n",
    "print('Num actions:', len(actions))"
   ],
   "metadata": {
    "collapsed": false,
    "pycharm": {
     "name": "#%%\n"
    }
   }
  },
  {
   "cell_type": "code",
   "execution_count": 82,
   "outputs": [],
   "source": [
    "# initial state\n",
    "# for each action:\n",
    "#   compute features from (state, action)\n",
    "#   forward pass features\n",
    "#   output is single q value\n",
    "# taken: max(q_vals) or random action\n",
    "\n",
    "def make_input(state, action):\n",
    "    return np.matrix([state, action[0], action[1], action[2]])"
   ],
   "metadata": {
    "collapsed": false,
    "pycharm": {
     "name": "#%%\n"
    }
   }
  },
  {
   "cell_type": "code",
   "execution_count": 114,
   "outputs": [],
   "source": [
    "model = tf.keras.Sequential([\n",
    "    tf.keras.layers.Flatten(input_shape=(4,)),\n",
    "    tf.keras.layers.Dense(25, activation='relu', kernel_initializer=initializers.he_normal()),\n",
    "    tf.keras.layers.Dense(25, activation='relu', kernel_initializer=initializers.he_normal()),\n",
    "    # tf.keras.layers.Dense(25, activation='relu', kernel_initializer=initializers.he_normal()),\n",
    "    tf.keras.layers.Dense(1, activation='linear', kernel_initializer=initializers.he_normal())\n",
    "])"
   ],
   "metadata": {
    "collapsed": false,
    "pycharm": {
     "name": "#%%\n"
    }
   }
  },
  {
   "cell_type": "code",
   "execution_count": 115,
   "outputs": [],
   "source": [
    "# inp = make_input(1, (1, 0, 2))\n",
    "# model(inp).numpy()"
   ],
   "metadata": {
    "collapsed": false,
    "pycharm": {
     "name": "#%%\n"
    }
   }
  },
  {
   "cell_type": "code",
   "execution_count": 117,
   "outputs": [
    {
     "name": "stdout",
     "output_type": "stream",
     "text": [
      "Q vals: [1.1734979, 1.4622911, 2.0552993, 2.5353537, 2.7863402, 1.3610632, 1.6465725, 2.20942, 2.8411965, 3.3930848, 2.3801765, 2.117188, 2.3431318, 2.6185634, 3.0114305, 1.7441291, 1.94804, 2.405537, 2.7704277, 3.139946]\n",
      "Action taken: (0, 1, 4) with index 9\n",
      "Episode finished after 0 timesteps\n",
      "TD-Error: -3.893084764480591\n",
      "[None, None, None, None, None, None]\n"
     ]
    },
    {
     "ename": "ValueError",
     "evalue": "No gradients provided for any variable: ['dense_84/kernel:0', 'dense_84/bias:0', 'dense_85/kernel:0', 'dense_85/bias:0', 'dense_86/kernel:0', 'dense_86/bias:0'].",
     "output_type": "error",
     "traceback": [
      "\u001B[0;31m---------------------------------------------------------------------------\u001B[0m",
      "\u001B[0;31mValueError\u001B[0m                                Traceback (most recent call last)",
      "\u001B[0;32m<ipython-input-117-31c01258ec79>\u001B[0m in \u001B[0;36m<module>\u001B[0;34m()\u001B[0m\n\u001B[1;32m     38\u001B[0m         \u001B[0mgrads\u001B[0m \u001B[0;34m=\u001B[0m \u001B[0mtape\u001B[0m\u001B[0;34m.\u001B[0m\u001B[0mgradient\u001B[0m\u001B[0;34m(\u001B[0m\u001B[0mtd_err\u001B[0m\u001B[0;34m,\u001B[0m \u001B[0mmodel\u001B[0m\u001B[0;34m.\u001B[0m\u001B[0mtrainable_variables\u001B[0m\u001B[0;34m)\u001B[0m\u001B[0;34m\u001B[0m\u001B[0;34m\u001B[0m\u001B[0m\n\u001B[1;32m     39\u001B[0m         \u001B[0mprint\u001B[0m\u001B[0;34m(\u001B[0m\u001B[0mgrads\u001B[0m\u001B[0;34m)\u001B[0m\u001B[0;34m\u001B[0m\u001B[0;34m\u001B[0m\u001B[0m\n\u001B[0;32m---> 40\u001B[0;31m         \u001B[0mopt\u001B[0m\u001B[0;34m.\u001B[0m\u001B[0mapply_gradients\u001B[0m\u001B[0;34m(\u001B[0m\u001B[0mzip\u001B[0m\u001B[0;34m(\u001B[0m\u001B[0mgrads\u001B[0m\u001B[0;34m,\u001B[0m \u001B[0mmodel\u001B[0m\u001B[0;34m.\u001B[0m\u001B[0mtrainable_variables\u001B[0m\u001B[0;34m)\u001B[0m\u001B[0;34m)\u001B[0m\u001B[0;34m\u001B[0m\u001B[0;34m\u001B[0m\u001B[0m\n\u001B[0m\u001B[1;32m     41\u001B[0m \u001B[0;34m\u001B[0m\u001B[0m\n\u001B[1;32m     42\u001B[0m         \u001B[0mobservation\u001B[0m \u001B[0;34m=\u001B[0m \u001B[0mnext_state\u001B[0m\u001B[0;34m\u001B[0m\u001B[0;34m\u001B[0m\u001B[0m\n",
      "\u001B[0;32m/Users/nsortur/opt/anaconda3/envs/aifinal/lib/python3.6/site-packages/tensorflow_core/python/keras/optimizer_v2/optimizer_v2.py\u001B[0m in \u001B[0;36mapply_gradients\u001B[0;34m(self, grads_and_vars, name)\u001B[0m\n\u001B[1;32m    425\u001B[0m       \u001B[0mValueError\u001B[0m\u001B[0;34m:\u001B[0m \u001B[0mIf\u001B[0m \u001B[0mnone\u001B[0m \u001B[0mof\u001B[0m \u001B[0mthe\u001B[0m \u001B[0mvariables\u001B[0m \u001B[0mhave\u001B[0m \u001B[0mgradients\u001B[0m\u001B[0;34m.\u001B[0m\u001B[0;34m\u001B[0m\u001B[0;34m\u001B[0m\u001B[0m\n\u001B[1;32m    426\u001B[0m     \"\"\"\n\u001B[0;32m--> 427\u001B[0;31m     \u001B[0mgrads_and_vars\u001B[0m \u001B[0;34m=\u001B[0m \u001B[0m_filter_grads\u001B[0m\u001B[0;34m(\u001B[0m\u001B[0mgrads_and_vars\u001B[0m\u001B[0;34m)\u001B[0m\u001B[0;34m\u001B[0m\u001B[0;34m\u001B[0m\u001B[0m\n\u001B[0m\u001B[1;32m    428\u001B[0m     \u001B[0mvar_list\u001B[0m \u001B[0;34m=\u001B[0m \u001B[0;34m[\u001B[0m\u001B[0mv\u001B[0m \u001B[0;32mfor\u001B[0m \u001B[0;34m(\u001B[0m\u001B[0m_\u001B[0m\u001B[0;34m,\u001B[0m \u001B[0mv\u001B[0m\u001B[0;34m)\u001B[0m \u001B[0;32min\u001B[0m \u001B[0mgrads_and_vars\u001B[0m\u001B[0;34m]\u001B[0m\u001B[0;34m\u001B[0m\u001B[0;34m\u001B[0m\u001B[0m\n\u001B[1;32m    429\u001B[0m \u001B[0;34m\u001B[0m\u001B[0m\n",
      "\u001B[0;32m/Users/nsortur/opt/anaconda3/envs/aifinal/lib/python3.6/site-packages/tensorflow_core/python/keras/optimizer_v2/optimizer_v2.py\u001B[0m in \u001B[0;36m_filter_grads\u001B[0;34m(grads_and_vars)\u001B[0m\n\u001B[1;32m   1023\u001B[0m   \u001B[0;32mif\u001B[0m \u001B[0;32mnot\u001B[0m \u001B[0mfiltered\u001B[0m\u001B[0;34m:\u001B[0m\u001B[0;34m\u001B[0m\u001B[0;34m\u001B[0m\u001B[0m\n\u001B[1;32m   1024\u001B[0m     raise ValueError(\"No gradients provided for any variable: %s.\" %\n\u001B[0;32m-> 1025\u001B[0;31m                      ([v.name for _, v in grads_and_vars],))\n\u001B[0m\u001B[1;32m   1026\u001B[0m   \u001B[0;32mif\u001B[0m \u001B[0mvars_with_empty_grads\u001B[0m\u001B[0;34m:\u001B[0m\u001B[0;34m\u001B[0m\u001B[0;34m\u001B[0m\u001B[0m\n\u001B[1;32m   1027\u001B[0m     logging.warning(\n",
      "\u001B[0;31mValueError\u001B[0m: No gradients provided for any variable: ['dense_84/kernel:0', 'dense_84/bias:0', 'dense_85/kernel:0', 'dense_85/bias:0', 'dense_86/kernel:0', 'dense_86/bias:0']."
     ]
    }
   ],
   "source": [
    "observation = env.reset()\n",
    "for i in range(5):\n",
    "    with tf.GradientTape() as tape:\n",
    "        rand = random.random()\n",
    "        if rand < EPSILON:\n",
    "            action = env.action_space.sample()\n",
    "        else:\n",
    "            q_vals = []\n",
    "            # get max q value of actions from the current state\n",
    "            for poss_action in actions:\n",
    "                q_vals.append(model(make_input(observation, poss_action)).numpy()[0][0])\n",
    "\n",
    "            best_idx = np.argmax(q_vals)\n",
    "            action = actions[best_idx]\n",
    "            print('Q vals:', q_vals)\n",
    "            print(f'Action taken: {action} with index {best_idx}')\n",
    "\n",
    "        next_state, reward, done, info = env.step(action)\n",
    "\n",
    "        # obtain next best q value\n",
    "        if done:\n",
    "            max_next_q = 0\n",
    "            print(f'Episode finished after {i} timesteps')\n",
    "        else:\n",
    "            next_q_vals = []\n",
    "            for next_action in actions:\n",
    "                next_q_vals.append(tf.stop_gradient(model(make_input(next_state, next_action)).numpy()[0][0]))\n",
    "            max_next_q = max(next_q_vals)\n",
    "            print(f'Max next q: {max_next_q}')\n",
    "\n",
    "        # perform updates\n",
    "        curr_q = tf.stop_gradient(model(make_input(observation, action)).numpy()[0][0])\n",
    "        td_err = (reward + (GAMMA * max_next_q)) - curr_q\n",
    "        print(f'TD-Error: {td_err}')\n",
    "\n",
    "        # apply gradients\n",
    "        opt = tf.keras.optimizers.Adam(learning_rate=ALPHA)\n",
    "        grads = tape.gradient(td_err, model.trainable_variables)\n",
    "        print(grads)\n",
    "        opt.apply_gradients(zip(grads, model.trainable_variables))\n",
    "\n",
    "        observation = next_state"
   ],
   "metadata": {
    "collapsed": false,
    "pycharm": {
     "name": "#%%\n"
    }
   }
  }
 ],
 "metadata": {
  "kernelspec": {
   "display_name": "Python 3",
   "language": "python",
   "name": "python3"
  },
  "language_info": {
   "codemirror_mode": {
    "name": "ipython",
    "version": 2
   },
   "file_extension": ".py",
   "mimetype": "text/x-python",
   "name": "python",
   "nbconvert_exporter": "python",
   "pygments_lexer": "ipython2",
   "version": "2.7.6"
  }
 },
 "nbformat": 4,
 "nbformat_minor": 0
}